{
 "cells": [
  {
   "cell_type": "code",
   "execution_count": 8,
   "metadata": {},
   "outputs": [
    {
     "name": "stdout",
     "output_type": "stream",
     "text": [
      "Requirement already satisfied: WeasyPrint in /Users/siddheshkanawade/anaconda3/envs/practise/lib/python3.10/site-packages (60.2)\n",
      "Requirement already satisfied: jinja2 in /Users/siddheshkanawade/anaconda3/envs/practise/lib/python3.10/site-packages (3.1.2)\n",
      "Collecting reportlab\n",
      "  Downloading reportlab-4.0.8-py3-none-any.whl.metadata (1.4 kB)\n",
      "Requirement already satisfied: pydyf>=0.8.0 in /Users/siddheshkanawade/anaconda3/envs/practise/lib/python3.10/site-packages (from WeasyPrint) (0.8.0)\n",
      "Requirement already satisfied: cffi>=0.6 in /Users/siddheshkanawade/anaconda3/envs/practise/lib/python3.10/site-packages (from WeasyPrint) (1.16.0)\n",
      "Requirement already satisfied: html5lib>=1.1 in /Users/siddheshkanawade/anaconda3/envs/practise/lib/python3.10/site-packages (from WeasyPrint) (1.1)\n",
      "Requirement already satisfied: tinycss2>=1.0.0 in /Users/siddheshkanawade/anaconda3/envs/practise/lib/python3.10/site-packages (from WeasyPrint) (1.2.1)\n",
      "Requirement already satisfied: cssselect2>=0.1 in /Users/siddheshkanawade/anaconda3/envs/practise/lib/python3.10/site-packages (from WeasyPrint) (0.7.0)\n",
      "Requirement already satisfied: Pyphen>=0.9.1 in /Users/siddheshkanawade/anaconda3/envs/practise/lib/python3.10/site-packages (from WeasyPrint) (0.14.0)\n",
      "Requirement already satisfied: Pillow>=9.1.0 in /Users/siddheshkanawade/anaconda3/envs/practise/lib/python3.10/site-packages (from WeasyPrint) (10.2.0)\n",
      "Requirement already satisfied: fonttools>=4.0.0 in /Users/siddheshkanawade/anaconda3/envs/practise/lib/python3.10/site-packages (from fonttools[woff]>=4.0.0->WeasyPrint) (4.47.0)\n",
      "Requirement already satisfied: MarkupSafe>=2.0 in /Users/siddheshkanawade/anaconda3/envs/practise/lib/python3.10/site-packages (from jinja2) (2.1.1)\n",
      "Collecting chardet (from reportlab)\n",
      "  Using cached chardet-5.2.0-py3-none-any.whl.metadata (3.4 kB)\n",
      "Requirement already satisfied: pycparser in /Users/siddheshkanawade/anaconda3/envs/practise/lib/python3.10/site-packages (from cffi>=0.6->WeasyPrint) (2.21)\n",
      "Requirement already satisfied: webencodings in /Users/siddheshkanawade/anaconda3/envs/practise/lib/python3.10/site-packages (from cssselect2>=0.1->WeasyPrint) (0.5.1)\n",
      "Requirement already satisfied: zopfli>=0.1.4 in /Users/siddheshkanawade/anaconda3/envs/practise/lib/python3.10/site-packages (from fonttools[woff]>=4.0.0->WeasyPrint) (0.2.3)\n",
      "Requirement already satisfied: brotli>=1.0.1 in /Users/siddheshkanawade/anaconda3/envs/practise/lib/python3.10/site-packages (from fonttools[woff]>=4.0.0->WeasyPrint) (1.0.9)\n",
      "Requirement already satisfied: six>=1.9 in /Users/siddheshkanawade/anaconda3/envs/practise/lib/python3.10/site-packages (from html5lib>=1.1->WeasyPrint) (1.16.0)\n",
      "Downloading reportlab-4.0.8-py3-none-any.whl (1.9 MB)\n",
      "\u001b[2K   \u001b[90m━━━━━━━━━━━━━━━━━━━━━━━━━━━━━━━━━━━━━━━━\u001b[0m \u001b[32m1.9/1.9 MB\u001b[0m \u001b[31m6.0 MB/s\u001b[0m eta \u001b[36m0:00:00\u001b[0ma \u001b[36m0:00:01\u001b[0m0m\n",
      "\u001b[?25hUsing cached chardet-5.2.0-py3-none-any.whl (199 kB)\n",
      "Installing collected packages: chardet, reportlab\n",
      "Successfully installed chardet-5.2.0 reportlab-4.0.8\n",
      "Note: you may need to restart the kernel to use updated packages.\n"
     ]
    }
   ],
   "source": [
    "%pip install WeasyPrint jinja2 reportlab"
   ]
  },
  {
   "cell_type": "code",
   "execution_count": 3,
   "metadata": {},
   "outputs": [],
   "source": [
    "from jinja2 import Environment, FileSystemLoader\n",
    "\n",
    "# Load the environment\n",
    "env = Environment(loader=FileSystemLoader('./'))\n",
    "\n",
    "# Load the template\n",
    "template = env.get_template('report.html')\n",
    "\n",
    "# Define your data\n",
    "data = {\n",
    "   'title': 'Report Title',\n",
    "}\n",
    "\n",
    "# Render the template with your data\n",
    "html = template.render(data)\n"
   ]
  },
  {
   "cell_type": "code",
   "execution_count": 10,
   "metadata": {},
   "outputs": [],
   "source": [
    "# from weasyprint import HTML\n",
    "\n",
    "# HTML(string=html).write_pdf(\"report.pdf\")\n"
   ]
  },
  {
   "cell_type": "code",
   "execution_count": 11,
   "metadata": {},
   "outputs": [],
   "source": [
    "from reportlab.pdfgen import canvas\n",
    "from reportlab.lib.pagesizes import letter\n",
    "from reportlab.lib.units import inch\n",
    "\n",
    "c = canvas.Canvas(\"report.pdf\", pagesize=letter)\n",
    "width, height = letter\n",
    "c.drawString(inch, height - inch, html)\n",
    "c.save()\n"
   ]
  },
  {
   "cell_type": "code",
   "execution_count": 1,
   "metadata": {},
   "outputs": [
    {
     "name": "stdout",
     "output_type": "stream",
     "text": [
      "Collecting pdfkit\n",
      "  Downloading pdfkit-1.0.0-py3-none-any.whl (12 kB)\n",
      "Installing collected packages: pdfkit\n",
      "Successfully installed pdfkit-1.0.0\n",
      "Note: you may need to restart the kernel to use updated packages.\n"
     ]
    }
   ],
   "source": [
    "%pip install pdfkit"
   ]
  },
  {
   "cell_type": "code",
   "execution_count": 4,
   "metadata": {},
   "outputs": [
    {
     "ename": "OSError",
     "evalue": "wkhtmltopdf reported an error:\nExit with code 1 due to network error: HostNotFoundError\n",
     "output_type": "error",
     "traceback": [
      "\u001b[0;31m---------------------------------------------------------------------------\u001b[0m",
      "\u001b[0;31mOSError\u001b[0m                                   Traceback (most recent call last)",
      "Cell \u001b[0;32mIn[4], line 2\u001b[0m\n\u001b[1;32m      1\u001b[0m \u001b[38;5;28;01mimport\u001b[39;00m \u001b[38;5;21;01mpdfkit\u001b[39;00m\n\u001b[0;32m----> 2\u001b[0m \u001b[43mpdfkit\u001b[49m\u001b[38;5;241;43m.\u001b[39;49m\u001b[43mfrom_url\u001b[49m\u001b[43m(\u001b[49m\u001b[43mhtml\u001b[49m\u001b[43m,\u001b[49m\u001b[43m \u001b[49m\u001b[38;5;124;43m'\u001b[39;49m\u001b[38;5;124;43m./out.pdf\u001b[39;49m\u001b[38;5;124;43m'\u001b[39;49m\u001b[43m)\u001b[49m\n",
      "File \u001b[0;32m~/anaconda3/envs/practise/lib/python3.10/site-packages/pdfkit/api.py:27\u001b[0m, in \u001b[0;36mfrom_url\u001b[0;34m(url, output_path, options, toc, cover, configuration, cover_first, verbose)\u001b[0m\n\u001b[1;32m      9\u001b[0m \u001b[38;5;250m\u001b[39m\u001b[38;5;124;03m\"\"\"\u001b[39;00m\n\u001b[1;32m     10\u001b[0m \u001b[38;5;124;03mConvert file of files from URLs to PDF document\u001b[39;00m\n\u001b[1;32m     11\u001b[0m \n\u001b[0;32m   (...)\u001b[0m\n\u001b[1;32m     21\u001b[0m \u001b[38;5;124;03mReturns: True on success\u001b[39;00m\n\u001b[1;32m     22\u001b[0m \u001b[38;5;124;03m\"\"\"\u001b[39;00m\n\u001b[1;32m     24\u001b[0m r \u001b[38;5;241m=\u001b[39m PDFKit(url, \u001b[38;5;124m'\u001b[39m\u001b[38;5;124murl\u001b[39m\u001b[38;5;124m'\u001b[39m, options\u001b[38;5;241m=\u001b[39moptions, toc\u001b[38;5;241m=\u001b[39mtoc, cover\u001b[38;5;241m=\u001b[39mcover,\n\u001b[1;32m     25\u001b[0m            configuration\u001b[38;5;241m=\u001b[39mconfiguration, cover_first\u001b[38;5;241m=\u001b[39mcover_first, verbose\u001b[38;5;241m=\u001b[39mverbose)\n\u001b[0;32m---> 27\u001b[0m \u001b[38;5;28;01mreturn\u001b[39;00m \u001b[43mr\u001b[49m\u001b[38;5;241;43m.\u001b[39;49m\u001b[43mto_pdf\u001b[49m\u001b[43m(\u001b[49m\u001b[43moutput_path\u001b[49m\u001b[43m)\u001b[49m\n",
      "File \u001b[0;32m~/anaconda3/envs/practise/lib/python3.10/site-packages/pdfkit/pdfkit.py:201\u001b[0m, in \u001b[0;36mPDFKit.to_pdf\u001b[0;34m(self, path)\u001b[0m\n\u001b[1;32m    199\u001b[0m stderr \u001b[38;5;241m=\u001b[39m stderr\u001b[38;5;241m.\u001b[39mdecode(\u001b[38;5;124m'\u001b[39m\u001b[38;5;124mutf-8\u001b[39m\u001b[38;5;124m'\u001b[39m, errors\u001b[38;5;241m=\u001b[39m\u001b[38;5;124m'\u001b[39m\u001b[38;5;124mreplace\u001b[39m\u001b[38;5;124m'\u001b[39m)\n\u001b[1;32m    200\u001b[0m exit_code \u001b[38;5;241m=\u001b[39m result\u001b[38;5;241m.\u001b[39mreturncode\n\u001b[0;32m--> 201\u001b[0m \u001b[38;5;28;43mself\u001b[39;49m\u001b[38;5;241;43m.\u001b[39;49m\u001b[43mhandle_error\u001b[49m\u001b[43m(\u001b[49m\u001b[43mexit_code\u001b[49m\u001b[43m,\u001b[49m\u001b[43m \u001b[49m\u001b[43mstderr\u001b[49m\u001b[43m)\u001b[49m\n\u001b[1;32m    203\u001b[0m \u001b[38;5;66;03m# Since wkhtmltopdf sends its output to stderr we will capture it\u001b[39;00m\n\u001b[1;32m    204\u001b[0m \u001b[38;5;66;03m# and properly send to stdout\u001b[39;00m\n\u001b[1;32m    205\u001b[0m \u001b[38;5;28;01mif\u001b[39;00m \u001b[38;5;124m'\u001b[39m\u001b[38;5;124m--quiet\u001b[39m\u001b[38;5;124m'\u001b[39m \u001b[38;5;129;01mnot\u001b[39;00m \u001b[38;5;129;01min\u001b[39;00m args:\n",
      "File \u001b[0;32m~/anaconda3/envs/practise/lib/python3.10/site-packages/pdfkit/pdfkit.py:155\u001b[0m, in \u001b[0;36mPDFKit.handle_error\u001b[0;34m(exit_code, stderr)\u001b[0m\n\u001b[1;32m    149\u001b[0m     \u001b[38;5;28;01mraise\u001b[39;00m \u001b[38;5;167;01mIOError\u001b[39;00m(\u001b[38;5;124m'\u001b[39m\u001b[38;5;132;01m%s\u001b[39;00m\u001b[38;5;130;01m\\n\u001b[39;00m\u001b[38;5;124m'\u001b[39m\n\u001b[1;32m    150\u001b[0m                   \u001b[38;5;124m'\u001b[39m\u001b[38;5;124mYou will need to run wkhtmltopdf within a \u001b[39m\u001b[38;5;124m\"\u001b[39m\u001b[38;5;124mvirtual\u001b[39m\u001b[38;5;124m\"\u001b[39m\u001b[38;5;124m X server.\u001b[39m\u001b[38;5;130;01m\\n\u001b[39;00m\u001b[38;5;124m'\u001b[39m\n\u001b[1;32m    151\u001b[0m                   \u001b[38;5;124m'\u001b[39m\u001b[38;5;124mGo to the link below for more information\u001b[39m\u001b[38;5;130;01m\\n\u001b[39;00m\u001b[38;5;124m'\u001b[39m\n\u001b[1;32m    152\u001b[0m                   \u001b[38;5;124m'\u001b[39m\u001b[38;5;124mhttps://github.com/JazzCore/python-pdfkit/wiki/Using-wkhtmltopdf-without-X-server\u001b[39m\u001b[38;5;124m'\u001b[39m \u001b[38;5;241m%\u001b[39m stderr)\n\u001b[1;32m    154\u001b[0m \u001b[38;5;28;01mif\u001b[39;00m \u001b[38;5;124m'\u001b[39m\u001b[38;5;124mError\u001b[39m\u001b[38;5;124m'\u001b[39m \u001b[38;5;129;01min\u001b[39;00m stderr:\n\u001b[0;32m--> 155\u001b[0m     \u001b[38;5;28;01mraise\u001b[39;00m \u001b[38;5;167;01mIOError\u001b[39;00m(\u001b[38;5;124m'\u001b[39m\u001b[38;5;124mwkhtmltopdf reported an error:\u001b[39m\u001b[38;5;130;01m\\n\u001b[39;00m\u001b[38;5;124m'\u001b[39m \u001b[38;5;241m+\u001b[39m stderr)\n\u001b[1;32m    157\u001b[0m error_msg \u001b[38;5;241m=\u001b[39m stderr \u001b[38;5;129;01mor\u001b[39;00m \u001b[38;5;124m'\u001b[39m\u001b[38;5;124mUnknown Error\u001b[39m\u001b[38;5;124m'\u001b[39m\n\u001b[1;32m    158\u001b[0m \u001b[38;5;28;01mraise\u001b[39;00m \u001b[38;5;167;01mIOError\u001b[39;00m(\u001b[38;5;124m\"\u001b[39m\u001b[38;5;124mwkhtmltopdf exited with non-zero code \u001b[39m\u001b[38;5;132;01m{0}\u001b[39;00m\u001b[38;5;124m. error:\u001b[39m\u001b[38;5;130;01m\\n\u001b[39;00m\u001b[38;5;132;01m{1}\u001b[39;00m\u001b[38;5;124m\"\u001b[39m\u001b[38;5;241m.\u001b[39mformat(exit_code, error_msg))\n",
      "\u001b[0;31mOSError\u001b[0m: wkhtmltopdf reported an error:\nExit with code 1 due to network error: HostNotFoundError\n"
     ]
    }
   ],
   "source": [
    "import pdfkit\n",
    "pdfkit.from_url(html, './out.pdf')"
   ]
  },
  {
   "cell_type": "code",
   "execution_count": 5,
   "metadata": {},
   "outputs": [],
   "source": [
    "from jinja2 import Environment\n",
    "from jinja2 import FileSystemLoader\n",
    "from pdfkit import from_string\n",
    "\n",
    "\n",
    "def create_pdf():\n",
    "    template_vars = {\n",
    "       'title': 'A template example',\n",
    "    }\n",
    "\n",
    "    env = Environment(loader=FileSystemLoader('./'))\n",
    "    template = env.get_template('report.html')\n",
    "    html_out = template.render(template_vars)\n",
    "\n",
    "    file_content = from_string(\n",
    "        html_out,\n",
    "        False,\n",
    "        # options='here_a_dict_with_special_page_properties',\n",
    "        # css='' # its a list e.g ['my_css.css', 'my_other_css.css']\n",
    "    )\n",
    "\n",
    "    return file_content\n",
    "\n",
    "\n",
    "def save_pdf(file_content):\n",
    "    try:\n",
    "        with open('report.pdf', 'wb+') as file:\n",
    "            file.write(file_content)\n",
    "\n",
    "    except Exception as error:\n",
    "        raise error\n",
    "        \n",
    "        \n",
    "if __name__ == '__main__':\n",
    "    pdf_file = create_pdf()\n",
    "    save_pdf(pdf_file)"
   ]
  },
  {
   "cell_type": "code",
   "execution_count": null,
   "metadata": {},
   "outputs": [],
   "source": []
  }
 ],
 "metadata": {
  "kernelspec": {
   "display_name": "practise",
   "language": "python",
   "name": "python3"
  },
  "language_info": {
   "codemirror_mode": {
    "name": "ipython",
    "version": 3
   },
   "file_extension": ".py",
   "mimetype": "text/x-python",
   "name": "python",
   "nbconvert_exporter": "python",
   "pygments_lexer": "ipython3",
   "version": "3.10.13"
  }
 },
 "nbformat": 4,
 "nbformat_minor": 2
}
